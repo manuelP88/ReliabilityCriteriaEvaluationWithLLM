{
 "cells": [
  {
   "cell_type": "code",
   "execution_count": 1,
   "metadata": {
    "executionInfo": {
     "elapsed": 10,
     "status": "ok",
     "timestamp": 1733246386820,
     "user": {
      "displayName": "Manuel Pratelli",
      "userId": "06102408719149671994"
     },
     "user_tz": -60
    },
    "id": "n7sdUqMGXfXh"
   },
   "outputs": [],
   "source": [
    "import pandas as pd"
   ]
  },
  {
   "cell_type": "code",
   "execution_count": 2,
   "metadata": {
    "executionInfo": {
     "elapsed": 4,
     "status": "ok",
     "timestamp": 1733246388926,
     "user": {
      "displayName": "Manuel Pratelli",
      "userId": "06102408719149671994"
     },
     "user_tz": -60
    },
    "id": "uV49d41pb3aH"
   },
   "outputs": [],
   "source": [
    "article_sample = pd.read_csv(\"./data/articles_sample.csv\")"
   ]
  },
  {
   "cell_type": "code",
   "execution_count": 3,
   "metadata": {
    "executionInfo": {
     "elapsed": 5,
     "status": "ok",
     "timestamp": 1733246388927,
     "user": {
      "displayName": "Manuel Pratelli",
      "userId": "06102408719149671994"
     },
     "user_tz": -60
    },
    "id": "3Z_aK3HFemWt"
   },
   "outputs": [],
   "source": [
    "system_prompt = \"Sei un esperto nella valutazione della credibilità dei siti di notizie. Il tuo compito è rispondere a una serie di domande progettate per analizzare e valutare la qualità del testo di un articolo giornalistico, offrendo un giudizio competente e imparziale.\"\n",
    "qIDs = [\"Type\", \"HeadAcc1\", \"HeadAcc2\", \"LedePres\", \"ArtBias\", \"SensLang\", \"NegTarg1\", \"NegTarg2\"]\n",
    "\n",
    "prompts_WO_json_by_qID: dict = {\n",
    "    \"Type\" : \"Ecco un articolo di giornale dal titolo %...% ed il seguente testo %...%. \\nChe tipo di notizia hai letto? Seleziona una tra seguenti opzioni e fornisci una spiegazione concisa della tua scelta:\\n 1 Notizia di cronaca, attualita’, notizia che riguarda il paese o notizia internazionale\\n 2 Editoriale o opinione\\n 3 Inchiesta\\n 4 Satira\\n 5 Notizia di costume o cronaca rosa.\",\n",
    "    \"HeadAcc1\" : \"Ecco un articolo di giornale dal titolo %...% ed il seguente testo %...%. \\nDimmi quanto è accurato il titolo della notizia rispetto al contenuto e forniscimi una spiegazione concisa della tua scelta:\\n  1. Non accurato\\n  2. Abbastanza inaccurato\\n  3. Abbastanza accurato\\n  4. Accurato\",\n",
    "    \"LedePres\" : \"Ecco un articolo di giornale dal titolo %...% ed il seguente testo %...%. \\nDimmi se l'articolo inizia con un riassunto del fatto principale e forniscimi una spiegazione concisa della tua scelta:\\n    1. No\\n    2. Si\",\n",
    "    \"ArtBias\" : \"Ecco un articolo di giornale dal titolo %...% ed il seguente testo %...%. \\nDimmi quanto l'articolo è di parte e forniscimi una spiegazione concisa della tua scelta:\\n    1. Di parte\\n    2. Abbastanza di parte\\n    3. Abbastanza imparziale\\n    4. Imparziale\",\n",
    "    \"SensLang\" : \"Ecco un articolo di giornale dal titolo %...% ed il seguente testo %...%. \\nDimmi quanto è sensazionale il tono della notizia e forniscimi una spiegazione concisa della tua scelta:\\n    1. Sensazionale\\n    2. Abbastanza sensazionale\\n    3. Abbastanza neutro\\n    4. Neutro\",\n",
    "    \"NegTarg1\" : \"Ecco un articolo di giornale dal titolo %...% ed il seguente testo %...%. \\nDimmi se l'articolo prende di mira negativamente individui o gruppi e forniscimi una spiegazione concisa della tua scelta:\\n    1. No\\n    2. Si\",\n",
    "    \"NegTarg2\" : \"Ecco un articolo di giornale dal titolo %...% ed il seguente testo %...%. \\nSe l'articolo prende di mira negativamente individui o gruppi dimmi su quale tematica sono basati e forniscimi una spiegazione concisa della tua scelta:\\n    1. Politica\\n    2. Gender\\n    3. Religione\\n    4. Altro\"\n",
    "}\n",
    "\n",
    "questions_by_qID:dict = {\n",
    "    \"Type\" : \"Che tipo di notizia hai letto?\",\n",
    "    \"HeadAcc1\" : \"Quanto è accurato il titolo della notizia rispetto al contenuto?\",\n",
    "    \"LedePres\" : \"L'articolo inizia con un riassunto del fatto principale?\",\n",
    "    \"ArtBias\" : \"L'articolo è di parte?\",\n",
    "    \"SensLang\" : \"Quanto è sensazionale il tono della notizia?\",\n",
    "    \"NegTarg1\" : \"L'articolo prende di mira negativamente individui o gruppi?\",\n",
    "    \"NegTarg2\" : \"Se l'articolo prende di mira negativamente individui o gruppi dimmi su quale tematica sono basati?\"\n",
    "}\n",
    "\n",
    "responses_by_qID:dict = {\n",
    "    \"Type\" : {\"1\" : \"Notizia di cronaca, attualita’, notizia che riguarda il paese o notizia internazionale\", \"2\" : \"Editoriale o opinione\", \"3\" : \"Inchiesta\", \"4\" : \"Satira\", \"5\" : \"Notizia di costume o cronaca rosa\"},\n",
    "    \"HeadAcc1\" : {\"1\" : \"Non accurato\", \"2\" : \"Abbastanza inaccurato\", \"3\" : \"Abbastanza accurato\", \"4\" : \"Accurato\"},\n",
    "    \"HeadAcc2\" : {\"1\" : \"Una domanda\", \"2\" : \"Pronomi dimostrativi\", \"3\" : \"Termini scritti in maiuscolo\", \"4\" : \"Superlativi (come il più alto, altissimo..) o intensificatori (come molto, estremamente, veramente..)\"},\n",
    "    \"LedePres\" : {\"1\" : \"No\", \"2\" : \"Si\"},\n",
    "    \"ArtBias\" : {\"1\" : \"Di parte\", \"2\" : \"Abbastanza di parte\", \"3\" : \"Abbastanza imparziale\", \"4\" : \"Imparziale\"},\n",
    "    \"SensLang\" : {\"1\" : \"Sensazionale\", \"2\" : \"Abbastanza sensazionale\", \"3\" : \"Abbastanza neutro\", \"4\" : \"Neutro\"},\n",
    "    \"NegTarg1\" : {\"1\" : \"No\", \"2\" : \"Si\"},\n",
    "    \"NegTarg2\" : {\"1\" : \"Politica\", \"2\" : \"Gender\", \"3\" : \"Religione\", \"4\" : \"Altro\"}\n",
    "}\n"
   ]
  },
  {
   "cell_type": "markdown",
   "metadata": {},
   "source": [
    "# A simple Example "
   ]
  },
  {
   "cell_type": "code",
   "execution_count": 4,
   "metadata": {},
   "outputs": [
    {
     "name": "stdout",
     "output_type": "stream",
     "text": [
      "Ecco un articolo di giornale dal titolo \"«Fare meno tamponi vuol dire rinunciare a tracciare il Covid»\" ed il seguente testo \"Nei prossimi giorni il governo presenterà il nuovo sistema di monitoraggio con cui vigilare sulle riaperture. Il premier Draghi ha mostrato prudenza, ma le regioni premono affinché i “colori” del rischio vengano assegnati con criteri diversi da quelli usati finora. In particolare, chiedono di archiviare l’indice Rt, di non valutare le attività di tracciamento e di fissare un numero di test più basso di quello attuale. Il microbiologo Andrea Crisanti, che nel 2020 aveva guidato la strategia di test del Veneto unanimemente ritenuta un modello, aveva proposto di arrivare a 500 mila test al giorno per aumentare la sorveglianza sul virus. Invece, secondo le regioni, con l’attuale incidenza del virus invece dei 287 mila test effettuati ieri ne basterebbero meno di novantamila.\n",
      "\n",
      "Dottor Crisanti, immaginiamo che lei non sia d’accordo.\n",
      "\n",
      "Significa rinunciare totalmente al tracciamento. Dal punto di vista epidemiologico, invece, si dovrebbe cogliere l’occasione della vaccinazione per chiudere la partita col virus. Cioè bisognerebbe aumentare ulteriormente l’azione di sorveglianza per bloccare del tutto la trasmissione.\n",
      "\n",
      "Quindi, secondo lei, sarebbe il momento di provare a eliminare il virus, la cosiddetta strategia «zero Covid»?\n",
      "\n",
      "Esatto, bisognerebbe fare esattamente il contrario di quello che propongono le regioni. Siccome i casi diminuiranno grazie alla vaccinazione, aumentando il numero di test eseguiti per ogni caso positivo si riesce a fermare le catene di trasmissione. È l’abc dell’epidemiologia.\n",
      "\n",
      "Nella proposta che i presidenti di regione fanno al governo, si propone anche di eliminare dal monitoraggio anche gli indicatori che misurano l’attività di contact tracing.\n",
      "\n",
      "Invece, la campagna di vaccinazione rappresenta un’opportunità da sfruttare. Il contact tracing in Italia non ha mai funzionato. Ma, ripeto, con i casi che diminuiscono grazie ai vaccini il contact tracing diventa più efficiente. Temo che non vogliano più trovare i casi. Nessuno vuole correre il rischio di dover chiudere per l’estate.\n",
      "\n",
      "Un’altra richiesta al governo riguarda l’indice Rt, che le regioni chiedono di superare. È d’accordo?\n",
      "\n",
      "Sì, l’indice Rt non funziona, non ha mai funzionato. È un parametro che conduce a prendere decisioni sulla situazione di dieci giorni prima. Calcolare Rt sui casi sintomatici o usare il numero dei ricoverati è sostanzialmente la stessa cosa. Il ritardo è pressappoco lo stesso. Di casi sintomatici con i vaccini se ne vedranno meno. Ma l’indice può salire lo stesso perché, sintomatici o no, Rt è un rapporto tra i casi in un periodo e quelli in un periodo successivo: con i vaccini diminuisce sia il numeratore che il denominatore, l’indice non cambia. La cosa migliore è calcolare il valore di Rt sull’incidenza. Forse è meno preciso ma è più tempestivo.\n",
      "\n",
      "Lei aveva proposto al ministro Speranza di arrivare a mezzo milione di test molecolari al giorno. Chi non ha voluto?\n",
      "\n",
      "Non hanno voluto le regioni, perché per le regioni costituiva un impegno. Ma voglio sottolineare un altro aspetto: in questa pandemia tutte le soluzioni meno costose sono state scartate. I test molecolari costano circa due euro e mezzo, se viene effettuato in laboratori che hanno la capacità di farli da soli. Questo era l’approccio che avevamo proposto. Invece stiamo facendo molti test antigenici che costano di 20 -25 euro l’uno, per i quali abbiamo speso centinaia di milioni. E puntando sui test molecolari ci saremmo dotati di un’infrastruttura di laboratori. Invece con i test antigenici non ci rimarrà nulla, saranno tutti soldi buttati.\n",
      "\n",
      "I test molecolari rimangono quelli più accurati?\n",
      "\n",
      "I test antigenici hanno una bassa sensibilità, intorno al 70%. Quindi la loro utilità dipende molto da come vengono utilizzati. Se si utilizzano, per esempio, per filtrare gli ingressi nelle Rsa un test con una sensibilità del 70% non va bene, perché basta che entri un infetto per fare una strage. Se però si vuole valutare se in una comunità c’è trasmissione virale, il test antigenico va pure bene. In quel caso non si vuole capire chi è infetto, ma solo di sapere quante persone infette, più o meno, ci sono in quella comunità. Quindi anche un errore del 20-30% è tollerabile. I test antigenici non vanno usati a scopo di sorveglianza. Ma le regioni vogliono usare i test antigenici perché trovano meno casi, così da non avere problemi durante l’estate.\". \n",
      "Che tipo di notizia hai letto? Seleziona una tra seguenti opzioni e fornisci una spiegazione concisa della tua scelta:\n",
      " 1 Notizia di cronaca, attualita’, notizia che riguarda il paese o notizia internazionale\n",
      " 2 Editoriale o opinione\n",
      " 3 Inchiesta\n",
      " 4 Satira\n",
      " 5 Notizia di costume o cronaca rosa.\n"
     ]
    }
   ],
   "source": [
    "example_article_title = article_sample.iloc[0][\"title\"]\n",
    "example_article_text = article_sample.iloc[0][\"text\"]\n",
    "\n",
    "example_type_criteria_user_prompt = prompts_WO_json_by_qID[ qIDs[0] ]\n",
    "\n",
    "example_type_criteria_user_prompt = example_type_criteria_user_prompt.replace('%...%', f'\"{example_article_title}\"', 1)\n",
    "example_type_criteria_user_prompt = example_type_criteria_user_prompt.replace('%...%', f'\"{example_article_text}\"', 1)\n",
    "\n",
    "print( example_type_criteria_user_prompt )"
   ]
  },
  {
   "cell_type": "markdown",
   "metadata": {},
   "source": [
    "# GPT API Settings"
   ]
  },
  {
   "cell_type": "code",
   "execution_count": 5,
   "metadata": {},
   "outputs": [
    {
     "data": {
      "text/plain": [
       "'\\nAZURE_OPENAI_KEY=\"XXX\"\\n\\nclient = AzureOpenAI(\\n    azure_endpoint=\"https://chatgpt4asannotator.openai.azure.com/openai/deployments/gpt-4o_MarinellaPetrocchi/chat/completions?api-version=2024-02-15-preview\",\\n    api_key=AZURE_OPENAI_KEY,\\n    api_version=\"2024-02-15-preview\",\\n)\\nmessages = [{\\n                \"role\": \"system\",\\n                \"content\": str(system_prompt)\\n            },\\n            {\\n                \"role\": \"user\",\\n                \"content\": str(example_type_criteria_user_prompt)\\n            }\\n    ]\\n\\ncompletion = client.chat.completions.create(\\n                ...\\n                messages = messages,\\n                # The temperature is zero because it concerns the degree of creativity of the messages but our outputs are numbers so we don\\'t need it, in fact increasing it would risk having an invalid JSON produced\\n                temperature=0,\\n                # Maximum Length either because the texts of the articles vary.\\n                # This is also about creativity and we need it low so I\\'ll throw it in at a minimum\\n                top_p=0.01,\\n                # frequence and presence are used to avoid repetition but we don\\'t care so they are left to default to 0\\n                frequency_penalty=0,\\n                presence_penalty=0,\\n                # Stop Sequences we don\\'t need it because we don\\'t have an end sequence beyond which it should not generate so I give it “None”\\n                stop=None\\n            )\\n\\nresp = completion.choices[0].message.content\\n'"
      ]
     },
     "execution_count": 5,
     "metadata": {},
     "output_type": "execute_result"
    }
   ],
   "source": [
    "\"\"\"\n",
    "AZURE_OPENAI_KEY=\"XXX\"\n",
    "\n",
    "client = AzureOpenAI(\n",
    "    azure_endpoint=\"https://chatgpt4asannotator.openai.azure.com/openai/deployments/gpt-4o_MarinellaPetrocchi/chat/completions?api-version=2024-02-15-preview\",\n",
    "    api_key=AZURE_OPENAI_KEY,\n",
    "    api_version=\"2024-02-15-preview\",\n",
    ")\n",
    "messages = [{\n",
    "                \"role\": \"system\",\n",
    "                \"content\": str(system_prompt)\n",
    "            },\n",
    "            {\n",
    "                \"role\": \"user\",\n",
    "                \"content\": str(example_type_criteria_user_prompt)\n",
    "            }\n",
    "    ]\n",
    "\n",
    "completion = client.chat.completions.create(\n",
    "                ...\n",
    "                messages = messages,\n",
    "                # The temperature is zero because it concerns the degree of creativity of the messages but our outputs are numbers so we don't need it, in fact increasing it would risk having an invalid JSON produced\n",
    "                temperature=0,\n",
    "                # Maximum Length either because the texts of the articles vary.\n",
    "                # This is also about creativity and we need it low so I'll throw it in at a minimum\n",
    "                top_p=0.01,\n",
    "                # frequence and presence are used to avoid repetition but we don't care so they are left to default to 0\n",
    "                frequency_penalty=0,\n",
    "                presence_penalty=0,\n",
    "                # Stop Sequences we don't need it because we don't have an end sequence beyond which it should not generate so I give it “None”\n",
    "                stop=None\n",
    "            )\n",
    "\n",
    "resp = completion.choices[0].message.content\n",
    "\"\"\""
   ]
  }
 ],
 "metadata": {
  "colab": {
   "authorship_tag": "ABX9TyMboj1zdrL8lpq/nQADj3gR",
   "provenance": []
  },
  "kernelspec": {
   "display_name": "base",
   "language": "python",
   "name": "python3"
  },
  "language_info": {
   "codemirror_mode": {
    "name": "ipython",
    "version": 3
   },
   "file_extension": ".py",
   "mimetype": "text/x-python",
   "name": "python",
   "nbconvert_exporter": "python",
   "pygments_lexer": "ipython3",
   "version": "3.12.7"
  }
 },
 "nbformat": 4,
 "nbformat_minor": 0
}
